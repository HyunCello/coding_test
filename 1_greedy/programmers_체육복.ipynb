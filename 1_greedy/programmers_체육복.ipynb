{
 "cells": [
  {
   "cell_type": "code",
   "execution_count": 99,
   "metadata": {},
   "outputs": [],
   "source": [
    "def solution(n, lost, reserve):\n",
    "    students_have = [1] * n\n",
    "    for who in lost:\n",
    "        students_have[who - 1] = 0\n",
    "\n",
    "    reserve_delete_ediot = [0] * n\n",
    "    for who in reserve:\n",
    "        if students_have[who - 1] == 0:\n",
    "            students_have[who - 1] = 1\n",
    "        else:\n",
    "            # print(who-1)\n",
    "            reserve_delete_ediot[who-1] = 1\n",
    "\n",
    "    print(\"have :\", students_have)\n",
    "    print(\"reserve :\", reserve_delete_ediot)\n",
    "\n",
    "\n",
    "    for i, val in enumerate(reserve_delete_ediot):\n",
    "        if val == 1:\n",
    "            print(i)\n",
    "            if i != 0 and (i + 1) != len(reserve_delete_ediot):\n",
    "                if students_have[i - 1] == 0:\n",
    "                    students_have[i - 1] = 1\n",
    "                elif students_have[i + 1] == 0:\n",
    "                    students_have[i + 1] = 1\n",
    "            elif i == 0:\n",
    "                if students_have[i + 1] == 0:\n",
    "                    students_have[i + 1] = 1\n",
    "            else:\n",
    "                if students_have[i - 1] == 0:\n",
    "                    students_have[i - 1] = 1\n",
    "\n",
    "    print(students_have)\n",
    "    answer = students_have.count(1)\n",
    "    return answer"
   ]
  },
  {
   "cell_type": "code",
   "execution_count": 100,
   "metadata": {},
   "outputs": [
    {
     "name": "stdout",
     "output_type": "stream",
     "text": [
      "have : [1, 0, 1, 0, 1, 0, 1]\n",
      "reserve : [1, 0, 1, 0, 0, 0, 0]\n",
      "0\n",
      "2\n",
      "[1, 1, 1, 1, 1, 0, 1]\n"
     ]
    },
    {
     "data": {
      "text/plain": [
       "6"
      ]
     },
     "execution_count": 100,
     "metadata": {},
     "output_type": "execute_result"
    }
   ],
   "source": [
    "n = 7\n",
    "lost = [2,4,5,6]\n",
    "reserve = [1,3,5]\n",
    "solution(n, lost, reserve)"
   ]
  },
  {
   "cell_type": "code",
   "execution_count": null,
   "metadata": {},
   "outputs": [],
   "source": []
  }
 ],
 "metadata": {
  "kernelspec": {
   "display_name": "ros_humble",
   "language": "python",
   "name": "python3"
  },
  "language_info": {
   "codemirror_mode": {
    "name": "ipython",
    "version": 3
   },
   "file_extension": ".py",
   "mimetype": "text/x-python",
   "name": "python",
   "nbconvert_exporter": "python",
   "pygments_lexer": "ipython3",
   "version": "3.10.9"
  },
  "orig_nbformat": 4
 },
 "nbformat": 4,
 "nbformat_minor": 2
}
