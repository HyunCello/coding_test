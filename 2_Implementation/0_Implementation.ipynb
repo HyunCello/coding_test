{
 "cells": [
  {
   "attachments": {},
   "cell_type": "markdown",
   "metadata": {},
   "source": [
    "# 구현\n",
    "\n",
    "- 머릿속에 있는 알고리즘을 소스코드로 바꾸는 과정\n",
    "- 흔히 알고리즘 대회에서 구현 유형이란\n",
    "  - 풀이를 떠올리는 것은 쉽지만 소스코드로 옮기기 쉬운 문제를 지칭\n",
    "\n",
    "- 구현 유형의 예시\n",
    "  - 알고리즘은 간단한데 코드가 지나칠 만큼 길어지는 문제\n",
    "  - 실수 연산을 다루고, 특정 소수점 자리까지 출력해야 하는 문제\n",
    "  - 문자열을 특정한 기준에 따라서 끊어 처리해야 하는 문제\n",
    "  - 적절한 라이브러리를 찾아서 사용해야 하는 문제"
   ]
  },
  {
   "attachments": {},
   "cell_type": "markdown",
   "metadata": {},
   "source": [
    "- 일반적으로 알고리즘 문제에서의 2차원 공간은 행력(Matrix)의 의미로 사용됨.\n",
    "![](https://i.imgur.com/EpVjowt.png)"
   ]
  },
  {
   "cell_type": "code",
   "execution_count": 2,
   "metadata": {},
   "outputs": [
    {
     "name": "stdout",
     "output_type": "stream",
     "text": [
      "( 0 , 0 ) ( 0 , 1 ) ( 0 , 2 ) ( 0 , 3 ) ( 0 , 4 ) \n",
      "( 1 , 0 ) ( 1 , 1 ) ( 1 , 2 ) ( 1 , 3 ) ( 1 , 4 ) \n",
      "( 2 , 0 ) ( 2 , 1 ) ( 2 , 2 ) ( 2 , 3 ) ( 2 , 4 ) \n",
      "( 3 , 0 ) ( 3 , 1 ) ( 3 , 2 ) ( 3 , 3 ) ( 3 , 4 ) \n",
      "( 4 , 0 ) ( 4 , 1 ) ( 4 , 2 ) ( 4 , 3 ) ( 4 , 4 ) \n"
     ]
    }
   ],
   "source": [
    "for i in range(5):\n",
    "  for j in range(5):\n",
    "    print('(',i,',',j,')', end=' ' )\n",
    "  print()"
   ]
  },
  {
   "attachments": {},
   "cell_type": "markdown",
   "metadata": {},
   "source": [
    "- 시뮬레이션 및 완전 탐색 문제에서는 2차원 공간에서의 방향 벡터가 자주 활용됨.\n",
    "![](https://i.imgur.com/C7bRHlx.png)"
   ]
  },
  {
   "cell_type": "code",
   "execution_count": 3,
   "metadata": {},
   "outputs": [
    {
     "name": "stdout",
     "output_type": "stream",
     "text": [
      "2 3\n",
      "1 2\n",
      "2 1\n",
      "3 2\n"
     ]
    }
   ],
   "source": [
    "# 동, 북, 서, 남\n",
    "dx = [0, -1, 0, 1]\n",
    "dy = [1, 0, -1, 0]\n",
    "\n",
    "# 현재 위치\n",
    "x, y = 2, 2\n",
    "\n",
    "for i in range(4):\n",
    "    # 다음 위치\n",
    "    nx = x + dx[i]\n",
    "    ny = y + dy[i]\n",
    "    print(nx, ny)"
   ]
  },
  {
   "attachments": {},
   "cell_type": "markdown",
   "metadata": {},
   "source": [
    "### <문제> 상하좌우 \n",
    "\n",
    "- 여행가 A는 N x N 크기의 정사각형 공간 위에 서 있습니다. 이 공간은 1 x 1 크기의 정사각형으로 나누 어져 있습니다. 가장 왼쪽 위 좌표는 (1, 1)이며, 가장 오른쪽 아래 좌표는 (N, N)에 해당합니다. 여행가 A 는 상, 하, 좌, 우 방향으로 이동할 수 있으며, 시작 좌표는 항상 (1, 1)입니다. 우리 앞에는 여행가 A가 이동 할 계획이 적힌 계획서가 놓여 있습니다.\n",
    "\n",
    "- 계획서에는 하나의 줄에 띄어쓰기를 기준으로 하여 L, R, U, D 중 하나의 문자가 반복적으로 적혀 있습니 다. 각 문자의 의미는 다음과 같습니다.\n",
    "  - L: 왼쪽으로 한 칸 이동\n",
    "  - R: 오른쪽으로 한 칸 이동\n",
    "  - U: 위로 한 칸 이동\n",
    "  - D: 아래로 한 칸 이동\n",
    "\n",
    "- 이 때 여행가 A가 N x N 크기의 정사각형 공간을 벗어나는 움직임은 무시됩니다. 예를 들어 (1, 1)의 위치에서 L 혹은 U를 만나면 무시됩니다. 다음은 N = 5인 지도와 계획서입니다.\n",
    "\n",
    "![](https://i.imgur.com/v7CkmHY.png)\n"
   ]
  },
  {
   "attachments": {},
   "cell_type": "markdown",
   "metadata": {},
   "source": [
    "### <문제> 상하좌우: 문제 조건\n",
    "\n",
    "#### 입력 조건\n",
    "- 첫째 줄에 공간의 크기를 나타내는 N이 주어짐 (1 <= N <=100)\n",
    "- 둘째 줄에 여행가 A가 이동할 계획서 내용이 주어짐 (1 <= 이동 횟수 <= 100)\n",
    "\n",
    "#### 출력 조건\n",
    "- 첫째 줄에 여행가 A가 최종적으로 도착할 지점의 좌표 (X, Y)를 공백을 기준으로 구분하여 출력합니다.\n",
    "\n",
    "#### 입력 예시\n",
    "5\n",
    "\n",
    "R R R U D D\n",
    "\n",
    "#### 출력 예시\n",
    "3 4\n",
    "\n",
    "### <문제> 상하좌우: 문제 해결 아이디어\n",
    "\n",
    "- 일련의 명령에 따라 개체를 차례대로 이동시킨다는 점에서 시뮬레이션(simulation) 유형으로도 분류되며 구현이 중요한 대표적인 문제 유형"
   ]
  },
  {
   "cell_type": "code",
   "execution_count": 4,
   "metadata": {},
   "outputs": [
    {
     "name": "stdout",
     "output_type": "stream",
     "text": [
      "4 5\n"
     ]
    }
   ],
   "source": [
    "# N 입력 받기\n",
    "n = int(input())\n",
    "x, y = 1, 1\n",
    "plans = input().split()\n",
    "\n",
    "dx = [0, 0, -1, 1]\n",
    "dy = [-1, 1, 0, 0]\n",
    "move_types = ['L', 'R', 'U', 'D']\n",
    "\n",
    "for plan in plans:\n",
    "    \n",
    "    for i in range(len(move_types)):\n",
    "        if plan == move_types[i]:\n",
    "            nx = x + dx[i]\n",
    "            ny = y + dy[i]\n",
    "\n",
    "        if nx < 1 or ny < 1 or nx > n or ny > n:\n",
    "            continue\n",
    "        \n",
    "        x, y = nx, ny\n",
    "\n",
    "print(x, y)"
   ]
  },
  {
   "attachments": {},
   "cell_type": "markdown",
   "metadata": {},
   "source": [
    "### <문제> 시각: 문제 설명\n",
    "\n",
    "- 정수 N이 입력되면 00시 00분 00초부터 N시 59분 59초까지의 모든 시각 중에서 3이 하나라도 포함되는 모든 경우의 수를 구하는 프로그램을 작성하세요. 예를 들어 1을 입력했을 때 다음은 3이 하나라도 포함되 어 있으므로 세어야 하는 시각입니다.\n",
    "  - 00시 00분 03초\n",
    "  - 00시 13분 30초\n",
    "\n",
    "- 반면에 다음은 30 하나도 포함되어 있지 않으므로 세면 안 되는 시각입니다.\n",
    "  - 00시 02분 55초\n",
    "  - 01시 27분 45초\n",
    "\n",
    "### <문제> 시각: 문제 조건\n",
    "\n",
    "#### 입력 조건\n",
    "- 첫쨰 줄에 정수 N이 입력됨 (0 <= N <= 23)\n",
    "\n",
    "#### 출력 조건\n",
    "- 00시 00분 00초부터 N시 59분 59초까지의 모든 시각 중에서 3이 하나라도 포함되는 모든 경우의 수를 출력합니다.\n",
    "\n",
    "#### 입력예시\n",
    "5\n",
    "\n",
    "#### 출력예시\n",
    "11475\n",
    "\n",
    "### <문제> 시각: 문제 해결 아이디어\n",
    "\n",
    "- 가능한 모든 시각의 경우를 하나씩 모두 세서 풀 수 있는 문제\n",
    "- 하루는 86,400초이므로, 00시 00분 00초부터 23시 59분 59초까지의 모든 경우는 86,400가지 입니다.\n",
    "  - 24 * 60 * 60 = 86,400\n",
    "\n",
    "- 따라서 단순히 시각을 1씩 증가시키면서 3이 하나라도 포함되어 있는지를 확인하면 됩니다.\n",
    "- 이러한 유형은 완전 탐색(Brute Forcing) 문제 유형이라고 불립니다.\n",
    "- 가능한 경우의 수를 모두 검사해보는 탐색 방법을 의미합니다."
   ]
  },
  {
   "cell_type": "code",
   "execution_count": 6,
   "metadata": {},
   "outputs": [
    {
     "name": "stdout",
     "output_type": "stream",
     "text": [
      "2700\n"
     ]
    }
   ],
   "source": [
    "h = int(input ( ))\n",
    "count = 0\n",
    "for i in range(h + 1):\n",
    "    for j in range (60):\n",
    "        for k in range(60):\n",
    "          # 매 시각 안에 '3'이 포함되어 있다면 카운트 증가\n",
    "          if '3' in str(i) + str(i) + str(k):\n",
    "            count += 1\n",
    "print(count)"
   ]
  },
  {
   "cell_type": "code",
   "execution_count": null,
   "metadata": {},
   "outputs": [],
   "source": []
  }
 ],
 "metadata": {
  "kernelspec": {
   "display_name": "ros_humble",
   "language": "python",
   "name": "python3"
  },
  "language_info": {
   "codemirror_mode": {
    "name": "ipython",
    "version": 3
   },
   "file_extension": ".py",
   "mimetype": "text/x-python",
   "name": "python",
   "nbconvert_exporter": "python",
   "pygments_lexer": "ipython3",
   "version": "3.10.8"
  },
  "orig_nbformat": 4
 },
 "nbformat": 4,
 "nbformat_minor": 2
}
