{
 "cells": [
  {
   "cell_type": "code",
   "execution_count": 13,
   "metadata": {},
   "outputs": [],
   "source": [
    "def spread(position, current_array ,spread_array, ):\n",
    "    # 상하좌우\n",
    "    dx = [-1, 1, 0, 0]\n",
    "    dy = [0, 0, -1, 1]\n",
    "\n",
    "    # \n",
    "    if \n",
    "\n",
    "def solution(R, C, T, array):\n",
    "    \n",
    "    \n",
    "    answer = 0\n",
    "    return answer"
   ]
  },
  {
   "cell_type": "code",
   "execution_count": 14,
   "metadata": {},
   "outputs": [
    {
     "name": "stdout",
     "output_type": "stream",
     "text": [
      "0\n"
     ]
    }
   ],
   "source": [
    "from pprint import pprint\n",
    "# R, C, T = input().split()\n",
    "R, C, T = 7, 8, 1\n",
    "array_origin = [[0, 0, 0, 0, 0, 0, 0, 9],\n",
    "         [0, 0, 0, 0, 3, 0, 0, 8],\n",
    "         [-1, 0, 5, 0, 0, 0, 22, 0],\n",
    "         [-1, 8, 0, 0, 0, 0, 0, 0],\n",
    "         [0, 0, 0, 0, 0, 10, 43, 0],\n",
    "         [0, 0, 5, 0, 15, 0, 0, 0],\n",
    "         [0, 0, 40, 0, 0, 0, 20, 0]]\n",
    "\n",
    "array = []\n",
    "\n",
    "for i in range(int(R)):\n",
    "    list = array_origin[i]\n",
    "    array.append(list)\n",
    "\n",
    "    # 백준 입력용\n",
    "    # list = input().split()\n",
    "    # array.append([list])\n",
    "\n",
    "\n",
    "# pprint(array)\n",
    "\n",
    "print(solution(R, C, T, array))\n"
   ]
  },
  {
   "attachments": {},
   "cell_type": "markdown",
   "metadata": {},
   "source": [
    "7 8 1\n",
    "0 0 0 0 0 0 0 9\n",
    "0 0 0 0 3 0 0 8\n",
    "-1 0 5 0 0 0 22 0\n",
    "-1 8 0 0 0 0 0 0\n",
    "0 0 0 0 0 10 43 0\n",
    "0 0 5 0 15 0 0 0\n",
    "0 0 40 0 0 0 20 0"
   ]
  }
 ],
 "metadata": {
  "kernelspec": {
   "display_name": "Python 3",
   "language": "python",
   "name": "python3"
  },
  "language_info": {
   "codemirror_mode": {
    "name": "ipython",
    "version": 3
   },
   "file_extension": ".py",
   "mimetype": "text/x-python",
   "name": "python",
   "nbconvert_exporter": "python",
   "pygments_lexer": "ipython3",
   "version": "3.10.9"
  },
  "orig_nbformat": 4
 },
 "nbformat": 4,
 "nbformat_minor": 2
}
