{
 "cells": [
  {
   "cell_type": "code",
   "execution_count": 13,
   "metadata": {},
   "outputs": [],
   "source": [
    "from pprint import pprint\n",
    "\n",
    "def spread(row, column, current_array ,spread_array):\n",
    "    # 먼지 위치 확인\n",
    "    dusts = []\n",
    "    for i in range(row):\n",
    "        for j in range(column):\n",
    "            if current_array[i][j] != 0 and current_array[i][j] != -1:\n",
    "                dusts.append((i, j))\n",
    "    print(dusts)\n",
    "\n",
    "    # 각 먼지 확산시키기\n",
    "    \n",
    "    ## 상하좌우\n",
    "    dx = [-1, 1, 0, 0]\n",
    "    dy = [0, 0, -1, 1]\n",
    "    # print(dx[1])\n",
    "\n",
    "    for dust in dusts:\n",
    "        # print(dust)\n",
    "        ## 확산 가능, 불가능 지역 확인\n",
    "        avaiable_spread = []\n",
    "        for i in range(len(dx)):\n",
    "            # print(i)\n",
    "            nx = dust[0] + dx[i]\n",
    "            ny = dust[1] + dy[i]\n",
    "            if 0 <= nx <= row - 1 and 0 <= ny <= column - 1 and current_array[nx][ny] != -1:\n",
    "                avaiable_spread.append(i)\n",
    "                # print(nx, ny)\n",
    "            # print(dust[dx[i]][dy[i]])\n",
    "        print(avaiable_spread)\n",
    "        ## 확산 값 계산\n",
    "        spread_each = \n",
    "\n",
    "    ## \n",
    "\n",
    "\n",
    "def solution(R, C, T, array, air_conditioner_path):\n",
    "    current_array = array\n",
    "    # 몇번 확산될껀지\n",
    "    for _ in range(T):\n",
    "        # 확산된 결과의 배열 생성\n",
    "        spread_array = [[0 for j in range(C)] for i in range(R)]\n",
    "\n",
    "        # 공청기 위치 추가\n",
    "        for path in air_conditioner_path:\n",
    "            spread_array[path[0]][path[1]] = -1\n",
    "        \n",
    "        spread(R, C, current_array, spread_array)\n",
    "        # pprint(current_array, spread_array)\n",
    "\n",
    "    answer = 0\n",
    "    return answer"
   ]
  },
  {
   "cell_type": "code",
   "execution_count": 14,
   "metadata": {},
   "outputs": [
    {
     "name": "stdout",
     "output_type": "stream",
     "text": [
      "0\n"
     ]
    }
   ],
   "source": [
    "from pprint import pprint\n",
    "# R, C, T = input().split()\n",
    "R, C, T = 7, 8, 1\n",
    "array_origin = [[0, 0, 0, 0, 0, 0, 0, 9],\n",
    "         [0, 0, 0, 0, 3, 0, 0, 8],\n",
    "         [-1, 0, 5, 0, 0, 0, 22, 0],\n",
    "         [-1, 8, 0, 0, 0, 0, 0, 0],\n",
    "         [0, 0, 0, 0, 0, 10, 43, 0],\n",
    "         [0, 0, 5, 0, 15, 0, 0, 0],\n",
    "         [0, 0, 40, 0, 0, 0, 20, 0]]\n",
    "\n",
    "array = []\n",
    "\n",
    "for i in range(int(R)):\n",
    "    list = array_origin[i]\n",
    "    array.append(list)\n",
    "\n",
    "    # 백준 입력용\n",
    "    # list = input().split()\n",
    "    # array.append([list])\n",
    "\n",
    "\n",
    "# pprint(array)\n",
    "\n",
    "print(solution(R, C, T, array))\n"
   ]
  },
  {
   "attachments": {},
   "cell_type": "markdown",
   "metadata": {},
   "source": [
    "7 8 1\n",
    "0 0 0 0 0 0 0 9\n",
    "0 0 0 0 3 0 0 8\n",
    "-1 0 5 0 0 0 22 0\n",
    "-1 8 0 0 0 0 0 0\n",
    "0 0 0 0 0 10 43 0\n",
    "0 0 5 0 15 0 0 0\n",
    "0 0 40 0 0 0 20 0"
   ]
  }
 ],
 "metadata": {
  "kernelspec": {
   "display_name": "Python 3",
   "language": "python",
   "name": "python3"
  },
  "language_info": {
   "codemirror_mode": {
    "name": "ipython",
    "version": 3
   },
   "file_extension": ".py",
   "mimetype": "text/x-python",
   "name": "python",
   "nbconvert_exporter": "python",
   "pygments_lexer": "ipython3",
   "version": "3.10.9"
  },
  "orig_nbformat": 4
 },
 "nbformat": 4,
 "nbformat_minor": 2
}
