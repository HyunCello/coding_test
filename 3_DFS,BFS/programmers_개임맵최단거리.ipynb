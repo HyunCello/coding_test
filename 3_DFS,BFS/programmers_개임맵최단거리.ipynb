{
 "cells": [
  {
   "cell_type": "code",
   "execution_count": 70,
   "metadata": {},
   "outputs": [],
   "source": [
    "from pprint import pprint\n",
    "from collections import deque\n",
    "\n",
    "def solution(maps):\n",
    "    pprint(maps)\n",
    "\n",
    "    #상하좌우\n",
    "    dx = [-1,1,0,0]\n",
    "    dy = [0,0,-1,1]\n",
    "\n",
    "    visited = [[0]*len(maps[0]) for _ in range(len(maps))]\n",
    "    visited[0][0] = 1\n",
    "    need_visiting = deque([(0,0)])\n",
    "\n",
    "    while need_visiting:\n",
    "        x, y = need_visiting.popleft()\n",
    "        for k in range(4):\n",
    "            nx, ny = x + dx[k], y + dy[k]\n",
    "            if 0 <= nx < len(maps) and 0 <= ny < len(maps[0]):\n",
    "                if maps[nx][ny] == 1 and not visited[nx][ny]:\n",
    "                    visited[nx][ny] = visited[x][y] + 1\n",
    "                    need_visiting.append((nx,ny))\n",
    "\n",
    "    pprint(visited)\n",
    "    if visited[len(maps) - 1][len(maps[0]) - 1]:\n",
    "        return visited[len(maps) - 1][len(maps[0]) - 1]\n",
    "    else:\n",
    "        return -1"
   ]
  },
  {
   "cell_type": "code",
   "execution_count": 71,
   "metadata": {},
   "outputs": [
    {
     "name": "stdout",
     "output_type": "stream",
     "text": [
      "[[1, 0, 1, 1, 1],\n",
      " [1, 0, 1, 0, 1],\n",
      " [1, 0, 1, 1, 1],\n",
      " [1, 1, 1, 0, 1],\n",
      " [0, 0, 0, 0, 1],\n",
      " [0, 0, 0, 0, 1]]\n"
     ]
    },
    {
     "data": {
      "text/plain": [
       "12"
      ]
     },
     "execution_count": 71,
     "metadata": {},
     "output_type": "execute_result"
    }
   ],
   "source": [
    "maps = [[1,0,1,1,1],[1,0,1,0,1],[1,0,1,1,1],[1,1,1,0,1],[0,0,0,0,1],[0,0,0,0,1]]\n",
    "\n",
    "solution(maps)\n"
   ]
  },
  {
   "attachments": {},
   "cell_type": "markdown",
   "metadata": {},
   "source": [
    "공부 더 해야겠다...\n",
    "https://whwl.tistory.com/216\n"
   ]
  }
 ],
 "metadata": {
  "kernelspec": {
   "display_name": "Python 3",
   "language": "python",
   "name": "python3"
  },
  "language_info": {
   "codemirror_mode": {
    "name": "ipython",
    "version": 3
   },
   "file_extension": ".py",
   "mimetype": "text/x-python",
   "name": "python",
   "nbconvert_exporter": "python",
   "pygments_lexer": "ipython3",
   "version": "3.10.9"
  },
  "orig_nbformat": 4
 },
 "nbformat": 4,
 "nbformat_minor": 2
}
